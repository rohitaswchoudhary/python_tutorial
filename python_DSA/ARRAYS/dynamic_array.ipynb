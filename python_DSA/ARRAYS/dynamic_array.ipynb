{
 "cells": [
  {
   "cell_type": "code",
   "execution_count": 1,
   "metadata": {},
   "outputs": [],
   "source": [
    "import ctypes\n",
    "# to create c type arrays"
   ]
  },
  {
   "cell_type": "markdown",
   "metadata": {},
   "source": [
    "# ctypes\n",
    " ----is a foreign function library for Python. It provides C compatible data types, and allows calling functions in DLLs or shared libraries. It can be used to wrap these libraries in pure Python.\n"
   ]
  },
  {
   "cell_type": "code",
   "execution_count": 23,
   "metadata": {},
   "outputs": [],
   "source": [
    "class MeraList:\n",
    "    def __init__(self) -> None:\n",
    "\n",
    "        self.size =1\n",
    "        self.n = 0\n",
    "        # create a C type array with size = self.size\n",
    "        self.A = self.__make_array(self.size)\n",
    "\n",
    "    def __len__(self):\n",
    "        # magic method __len__\n",
    "        return self.n\n",
    "\n",
    "    def __str__(self) -> str:\n",
    "        result = ''\n",
    "        for i in range(self.n):\n",
    "            result = result + str(self.A[i]) + ','\n",
    "        return '[' + result[:-1] + ']'\n",
    "\n",
    "    def append(self, item):\n",
    "        # check if array is vacant\n",
    "        if self.n == self.size:\n",
    "            # resize if array is full\n",
    "            self.__resize(self.size*2)\n",
    "\n",
    "        self.A[self.n]= item\n",
    "        self.n = self.n + 1\n",
    "\n",
    "    def __resize(self, new_capacity):\n",
    "        # create a new array with new capacity\n",
    "        B = self.__make_array(new_capacity)\n",
    "        self.size = new_capacity\n",
    "\n",
    "        # copy the content of A to B \n",
    "        for i in range(self.n):\n",
    "            B[i] = self.A[i]\n",
    "\n",
    "        # reassign B as A \n",
    "        self.A = B\n",
    "\n",
    "\n",
    "    def __make_array(self,capacity):\n",
    "        # referential array(C type)\n",
    "        return (capacity*ctypes.py_object)()\n",
    "\n"
   ]
  },
  {
   "cell_type": "code",
   "execution_count": 25,
   "metadata": {},
   "outputs": [
    {
     "name": "stdout",
     "output_type": "stream",
     "text": [
      "[hello,sumo,2.4]\n"
     ]
    }
   ],
   "source": [
    "L = MeraList()\n",
    "L.append(\"hello\")\n",
    "L.append(\"sumo\")\n",
    "L.append(2.4)\n",
    "len(L)\n",
    "print(L)\n"
   ]
  }
 ],
 "metadata": {
  "kernelspec": {
   "display_name": "venva",
   "language": "python",
   "name": "python3"
  },
  "language_info": {
   "codemirror_mode": {
    "name": "ipython",
    "version": 3
   },
   "file_extension": ".py",
   "mimetype": "text/x-python",
   "name": "python",
   "nbconvert_exporter": "python",
   "pygments_lexer": "ipython3",
   "version": "3.11.1"
  },
  "orig_nbformat": 4
 },
 "nbformat": 4,
 "nbformat_minor": 2
}
