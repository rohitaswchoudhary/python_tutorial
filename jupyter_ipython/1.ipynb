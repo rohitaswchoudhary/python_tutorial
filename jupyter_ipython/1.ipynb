{
 "cells": [
  {
   "cell_type": "code",
   "execution_count": 1,
   "metadata": {},
   "outputs": [
    {
     "name": "stdout",
     "output_type": "stream",
     "text": [
      "rohit\n"
     ]
    }
   ],
   "source": [
    "print(\"rohit\")"
   ]
  },
  {
   "cell_type": "code",
   "execution_count": 2,
   "metadata": {},
   "outputs": [
    {
     "name": "stdout",
     "output_type": "stream",
     "text": [
      "shishir\n"
     ]
    }
   ],
   "source": [
    "print(\"shishir\")"
   ]
  }
 ],
 "metadata": {
  "kernelspec": {
   "display_name": "venvpy",
   "language": "python",
   "name": "python3"
  },
  "language_info": {
   "codemirror_mode": {
    "name": "ipython",
    "version": 3
   },
   "file_extension": ".py",
   "mimetype": "text/x-python",
   "name": "python",
   "nbconvert_exporter": "python",
   "pygments_lexer": "ipython3",
   "version": "3.9.6 (tags/v3.9.6:db3ff76, Jun 28 2021, 15:26:21) [MSC v.1929 64 bit (AMD64)]"
  },
  "metadata": {
   "interpreter": {
    "hash": "5e0edd97c30981310aaf56eb533fa5525bd15e1a31cb2a6ea467720d838c73e3"
   }
  },
  "orig_nbformat": 2,
  "vscode": {
   "interpreter": {
    "hash": "d549ab3e4bf51987d07be5b42951b792fd31e171fb27cab93e4cbf637f2f26e4"
   }
  }
 },
 "nbformat": 4,
 "nbformat_minor": 2
}
