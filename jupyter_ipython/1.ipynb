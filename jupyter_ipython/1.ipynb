{
 "metadata": {
  "language_info": {
   "codemirror_mode": {
    "name": "ipython",
    "version": 3
   },
   "file_extension": ".py",
   "mimetype": "text/x-python",
   "name": "python",
   "nbconvert_exporter": "python",
   "pygments_lexer": "ipython3",
   "version": "3.9.5"
  },
  "orig_nbformat": 2,
  "kernelspec": {
   "name": "pythonjvsc74a57bd05e0edd97c30981310aaf56eb533fa5525bd15e1a31cb2a6ea467720d838c73e3",
   "display_name": "Python 3.9.5 64-bit ('venvpy': venv)"
  },
  "metadata": {
   "interpreter": {
    "hash": "5e0edd97c30981310aaf56eb533fa5525bd15e1a31cb2a6ea467720d838c73e3"
   }
  }
 },
 "nbformat": 4,
 "nbformat_minor": 2,
 "cells": [
  {
   "cell_type": "code",
   "execution_count": 1,
   "metadata": {},
   "outputs": [
    {
     "output_type": "stream",
     "name": "stdout",
     "text": [
      "rohit\n"
     ]
    }
   ],
   "source": [
    "print(\"rohit\")"
   ]
  },
  {
   "cell_type": "code",
   "execution_count": null,
   "metadata": {},
   "outputs": [],
   "source": []
  }
 ]
}