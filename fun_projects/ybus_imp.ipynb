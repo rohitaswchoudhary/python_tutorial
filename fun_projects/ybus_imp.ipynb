{
 "cells": [
  {
   "cell_type": "code",
   "execution_count": 3,
   "metadata": {},
   "outputs": [],
   "source": [
    "import numpy as np\n",
    "import cmath"
   ]
  },
  {
   "cell_type": "code",
   "execution_count": 4,
   "metadata": {},
   "outputs": [],
   "source": [
    "n = 5\n",
    "n1 = 7\n",
    "sb = np.array([1, 1, 2, 2, 3, 4])\n",
    "eb = np.array([2, 3, 3, 4, 5, 4, 5])\n",
    "zser = np.array([0.02, 0.06, 0.08, 0.24, 0.06, 0.18, 0.06, 0.18, 0.04, 0.12, 0.01, 0.03, 0.08, 0.24])\n",
    "yshty = np.array([0.03, 0.025, 0.02, 0.02, 0.015, 0.01, 0.025])"
   ]
  },
  {
   "cell_type": "code",
   "execution_count": 6,
   "metadata": {},
   "outputs": [
    {
     "ename": "TypeError",
     "evalue": "array() missing required argument 'object' (pos 0)",
     "output_type": "error",
     "traceback": [
      "\u001b[1;31m---------------------------------------------------------------------------\u001b[0m",
      "\u001b[1;31mTypeError\u001b[0m                                 Traceback (most recent call last)",
      "Cell \u001b[1;32mIn[6], line 4\u001b[0m\n\u001b[0;32m      2\u001b[0m k \u001b[39m=\u001b[39m \u001b[39m1\u001b[39m\n\u001b[0;32m      3\u001b[0m \u001b[39mwhile\u001b[39;00m i\u001b[39m<\u001b[39mn1:\n\u001b[1;32m----> 4\u001b[0m     zser1 \u001b[39m=\u001b[39m np\u001b[39m.\u001b[39;49marray()\n\u001b[0;32m      5\u001b[0m     zser1 \u001b[39m=\u001b[39m \u001b[39mcomplex\u001b[39m(zser(k),zser(k\u001b[39m+\u001b[39m\u001b[39m1\u001b[39m))\n\u001b[0;32m      6\u001b[0m     \u001b[39mprint\u001b[39m(zser1)\n",
      "\u001b[1;31mTypeError\u001b[0m: array() missing required argument 'object' (pos 0)"
     ]
    }
   ],
   "source": [
    "i = 0\n",
    "k = 1\n",
    "while i<n1:\n",
    "    zser1(i+1) = np.array(complex(zser(k),zser(k+1)))\n",
    "    zser1 = complex(zser(k),zser(k+1))\n",
    "    print(zser1)"
   ]
  }
 ],
 "metadata": {
  "kernelspec": {
   "display_name": "venva",
   "language": "python",
   "name": "python3"
  },
  "language_info": {
   "codemirror_mode": {
    "name": "ipython",
    "version": 3
   },
   "file_extension": ".py",
   "mimetype": "text/x-python",
   "name": "python",
   "nbconvert_exporter": "python",
   "pygments_lexer": "ipython3",
   "version": "3.11.1"
  },
  "orig_nbformat": 4,
  "vscode": {
   "interpreter": {
    "hash": "7eaebc48ee85921bb38b2ef3481523e78a39b40834302c70d0bec38a0d2487ae"
   }
  }
 },
 "nbformat": 4,
 "nbformat_minor": 2
}
